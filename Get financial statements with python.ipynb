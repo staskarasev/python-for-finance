{
 "cells": [
  {
   "cell_type": "code",
   "execution_count": 1,
   "id": "57642191",
   "metadata": {},
   "outputs": [],
   "source": [
    "# imports \n",
    "import requests\n",
    "import json\n",
    "import pandas as pd\n",
    "\n",
    "import plotly.graph_objects as go\n",
    "\n",
    "pd.options.display.float_format = '{:,}'.format"
   ]
  },
  {
   "cell_type": "code",
   "execution_count": 2,
   "id": "80794bfc",
   "metadata": {},
   "outputs": [],
   "source": [
    "def get_file_contents(filename):\n",
    "    \"\"\" Given a filename,\n",
    "        return the contents of that file\n",
    "    \"\"\"\n",
    "    try:\n",
    "        with open(filename, 'r') as f:\n",
    "            # It's assumed our file contains a single line,\n",
    "            # with our API key\n",
    "            return f.read().strip()\n",
    "    except FileNotFoundError:\n",
    "        print(\"'%s' file not found\" % filename)"
   ]
  },
  {
   "cell_type": "code",
   "execution_count": 3,
   "id": "e208dc24",
   "metadata": {},
   "outputs": [
    {
     "data": {
      "text/plain": [
       "{'date': '2021-06-26',\n",
       " 'symbol': 'AAPL',\n",
       " 'reportedCurrency': 'USD',\n",
       " 'fillingDate': '2021-07-28',\n",
       " 'acceptedDate': '2021-07-27 18:03:42',\n",
       " 'period': 'Q3',\n",
       " 'revenue': 81434000000,\n",
       " 'costOfRevenue': 46179000000,\n",
       " 'grossProfit': 35255000000,\n",
       " 'grossProfitRatio': 0.4329272785323084,\n",
       " 'researchAndDevelopmentExpenses': 5717000000,\n",
       " 'generalAndAdministrativeExpenses': 0.0,\n",
       " 'sellingAndMarketingExpenses': 0.0,\n",
       " 'sellingGeneralAndAdministrativeExpenses': 5412000000,\n",
       " 'otherExpenses': 0.0,\n",
       " 'operatingExpenses': 11129000000,\n",
       " 'costAndExpenses': 57308000000,\n",
       " 'interestExpense': 665000000,\n",
       " 'depreciationAndAmortization': 2832000000,\n",
       " 'ebitda': 27866000000,\n",
       " 'ebitdaratio': 0.34219122233956334,\n",
       " 'operatingIncome': 24126000000,\n",
       " 'operatingIncomeRatio': 0.2992484711545546,\n",
       " 'totalOtherIncomeExpensesNet': -243000000,\n",
       " 'incomeBeforeTax': 24369000000,\n",
       " 'incomeBeforeTaxRatio': 0.2992484711545546,\n",
       " 'incomeTaxExpense': 2625000000,\n",
       " 'netIncome': 21744000000,\n",
       " 'netIncomeRatio': 0.2670137780288332,\n",
       " 'eps': 1.31,\n",
       " 'epsdiluted': 1.3,\n",
       " 'weightedAverageShsOut': 16629371000,\n",
       " 'weightedAverageShsOutDil': 16781735000,\n",
       " 'link': 'https://www.sec.gov/Archives/edgar/data/320193/000032019321000065/0000320193-21-000065-index.htm',\n",
       " 'finalLink': 'https://www.sec.gov/Archives/edgar/data/320193/000032019321000065/aapl-20210626.htm'}"
      ]
     },
     "execution_count": 3,
     "metadata": {},
     "output_type": "execute_result"
    }
   ],
   "source": [
    "filename='apikey'\n",
    "ticker = 'AAPL'\n",
    "\n",
    "# get my perspnal API from a local file\n",
    "api_key = get_file_contents(filename)\n",
    "\n",
    "url = 'https://financialmodelingprep.com/api/v3/income-statement/{}?period=quarter&limit=400&apikey={}'.format(ticker, api_key)\n",
    "\n",
    "r = requests.get(url)\n",
    "r = r.json()\n",
    "r[0]"
   ]
  },
  {
   "cell_type": "code",
   "execution_count": 4,
   "id": "a85949f9",
   "metadata": {},
   "outputs": [
    {
     "data": {
      "text/html": [
       "<div>\n",
       "<style scoped>\n",
       "    .dataframe tbody tr th:only-of-type {\n",
       "        vertical-align: middle;\n",
       "    }\n",
       "\n",
       "    .dataframe tbody tr th {\n",
       "        vertical-align: top;\n",
       "    }\n",
       "\n",
       "    .dataframe thead th {\n",
       "        text-align: right;\n",
       "    }\n",
       "</style>\n",
       "<table border=\"1\" class=\"dataframe\">\n",
       "  <thead>\n",
       "    <tr style=\"text-align: right;\">\n",
       "      <th></th>\n",
       "      <th>date</th>\n",
       "      <th>2021-06-26</th>\n",
       "      <th>2021-03-27</th>\n",
       "      <th>2020-12-26</th>\n",
       "      <th>2020-09-26</th>\n",
       "      <th>2020-06-27</th>\n",
       "      <th>2020-03-28</th>\n",
       "      <th>2019-12-28</th>\n",
       "      <th>2019-09-28</th>\n",
       "      <th>2019-06-29</th>\n",
       "      <th>2019-03-30</th>\n",
       "    </tr>\n",
       "  </thead>\n",
       "  <tbody>\n",
       "    <tr>\n",
       "      <th>1</th>\n",
       "      <td>symbol</td>\n",
       "      <td>AAPL</td>\n",
       "      <td>AAPL</td>\n",
       "      <td>AAPL</td>\n",
       "      <td>AAPL</td>\n",
       "      <td>AAPL</td>\n",
       "      <td>AAPL</td>\n",
       "      <td>AAPL</td>\n",
       "      <td>AAPL</td>\n",
       "      <td>AAPL</td>\n",
       "      <td>AAPL</td>\n",
       "    </tr>\n",
       "    <tr>\n",
       "      <th>2</th>\n",
       "      <td>reportedCurrency</td>\n",
       "      <td>USD</td>\n",
       "      <td>USD</td>\n",
       "      <td>USD</td>\n",
       "      <td>USD</td>\n",
       "      <td>USD</td>\n",
       "      <td>USD</td>\n",
       "      <td>USD</td>\n",
       "      <td>USD</td>\n",
       "      <td>USD</td>\n",
       "      <td>USD</td>\n",
       "    </tr>\n",
       "    <tr>\n",
       "      <th>3</th>\n",
       "      <td>fillingDate</td>\n",
       "      <td>2021-07-28</td>\n",
       "      <td>2021-04-29</td>\n",
       "      <td>2021-01-28</td>\n",
       "      <td>2020-10-30</td>\n",
       "      <td>2020-07-31</td>\n",
       "      <td>2020-05-01 00:00:00</td>\n",
       "      <td>2020-01-29 00:00:00</td>\n",
       "      <td>2019-10-31 00:00:00</td>\n",
       "      <td>2019-07-31</td>\n",
       "      <td>2019-05-01 00:00:00</td>\n",
       "    </tr>\n",
       "    <tr>\n",
       "      <th>4</th>\n",
       "      <td>acceptedDate</td>\n",
       "      <td>2021-07-27 18:03:42</td>\n",
       "      <td>2021-04-28 18:02:54</td>\n",
       "      <td>2021-01-27 18:03:06</td>\n",
       "      <td>2020-10-29 18:06:25</td>\n",
       "      <td>2020-07-30 19:29:09</td>\n",
       "      <td>2020-04-30 18:03:10</td>\n",
       "      <td>2020-01-28 18:02:44</td>\n",
       "      <td>2019-10-30 18:12:36</td>\n",
       "      <td>2019-07-31 16:31:53</td>\n",
       "      <td>2019-05-01 16:32:00</td>\n",
       "    </tr>\n",
       "    <tr>\n",
       "      <th>5</th>\n",
       "      <td>period</td>\n",
       "      <td>Q3</td>\n",
       "      <td>Q2</td>\n",
       "      <td>Q1</td>\n",
       "      <td>Q4</td>\n",
       "      <td>Q3</td>\n",
       "      <td>Q2</td>\n",
       "      <td>Q1</td>\n",
       "      <td>Q4</td>\n",
       "      <td>Q3</td>\n",
       "      <td>Q2</td>\n",
       "    </tr>\n",
       "  </tbody>\n",
       "</table>\n",
       "</div>"
      ],
      "text/plain": [
       "0              date           2021-06-26           2021-03-27  \\\n",
       "1            symbol                 AAPL                 AAPL   \n",
       "2  reportedCurrency                  USD                  USD   \n",
       "3       fillingDate           2021-07-28           2021-04-29   \n",
       "4      acceptedDate  2021-07-27 18:03:42  2021-04-28 18:02:54   \n",
       "5            period                   Q3                   Q2   \n",
       "\n",
       "0           2020-12-26           2020-09-26           2020-06-27  \\\n",
       "1                 AAPL                 AAPL                 AAPL   \n",
       "2                  USD                  USD                  USD   \n",
       "3           2021-01-28           2020-10-30           2020-07-31   \n",
       "4  2021-01-27 18:03:06  2020-10-29 18:06:25  2020-07-30 19:29:09   \n",
       "5                   Q1                   Q4                   Q3   \n",
       "\n",
       "0           2020-03-28           2019-12-28           2019-09-28  \\\n",
       "1                 AAPL                 AAPL                 AAPL   \n",
       "2                  USD                  USD                  USD   \n",
       "3  2020-05-01 00:00:00  2020-01-29 00:00:00  2019-10-31 00:00:00   \n",
       "4  2020-04-30 18:03:10  2020-01-28 18:02:44  2019-10-30 18:12:36   \n",
       "5                   Q2                   Q1                   Q4   \n",
       "\n",
       "0           2019-06-29           2019-03-30  \n",
       "1                 AAPL                 AAPL  \n",
       "2                  USD                  USD  \n",
       "3           2019-07-31  2019-05-01 00:00:00  \n",
       "4  2019-07-31 16:31:53  2019-05-01 16:32:00  \n",
       "5                   Q3                   Q2  "
      ]
     },
     "execution_count": 4,
     "metadata": {},
     "output_type": "execute_result"
    }
   ],
   "source": [
    "d = r[0]\n",
    "income_inicial = pd.DataFrame(list(d.items()), columns = ['item','value'])\n",
    "\n",
    "for i in list(range(1,10)):\n",
    "    income = pd.DataFrame(list(r[i].items()), columns = ['item', 'value'])\n",
    "    income_inicial = income_inicial.merge(income, on='item', how = 'left')\n",
    "\n",
    "income_inicial.columns = income_inicial.iloc[0,:]\n",
    "income_inicial = income_inicial.iloc[1:,:]\n",
    "income_inicial[:5]"
   ]
  },
  {
   "cell_type": "code",
   "execution_count": 5,
   "id": "33543a79",
   "metadata": {},
   "outputs": [
    {
     "name": "stdout",
     "output_type": "stream",
     "text": [
      "<class 'pandas.core.frame.DataFrame'>\n",
      "Int64Index: 34 entries, 1 to 34\n",
      "Data columns (total 11 columns):\n",
      " #   Column      Non-Null Count  Dtype \n",
      "---  ------      --------------  ----- \n",
      " 0   date        34 non-null     object\n",
      " 1   2021-06-26  34 non-null     object\n",
      " 2   2021-03-27  34 non-null     object\n",
      " 3   2020-12-26  34 non-null     object\n",
      " 4   2020-09-26  34 non-null     object\n",
      " 5   2020-06-27  34 non-null     object\n",
      " 6   2020-03-28  34 non-null     object\n",
      " 7   2019-12-28  34 non-null     object\n",
      " 8   2019-09-28  34 non-null     object\n",
      " 9   2019-06-29  34 non-null     object\n",
      " 10  2019-03-30  34 non-null     object\n",
      "dtypes: object(11)\n",
      "memory usage: 3.2+ KB\n"
     ]
    }
   ],
   "source": [
    "income_inicial.info()"
   ]
  },
  {
   "cell_type": "code",
   "execution_count": 6,
   "id": "7960116d",
   "metadata": {},
   "outputs": [],
   "source": [
    "cols = income_inicial.columns[1:]\n",
    "income_inicial[cols] = income_inicial[cols].apply(pd.to_numeric, errors='coerce')\n",
    "income_inicial.dropna(inplace=True)\n",
    "income_inicial.reset_index(drop=True, inplace=True)"
   ]
  },
  {
   "cell_type": "code",
   "execution_count": 7,
   "id": "9e3e3e59",
   "metadata": {},
   "outputs": [
    {
     "data": {
      "text/html": [
       "<div>\n",
       "<style scoped>\n",
       "    .dataframe tbody tr th:only-of-type {\n",
       "        vertical-align: middle;\n",
       "    }\n",
       "\n",
       "    .dataframe tbody tr th {\n",
       "        vertical-align: top;\n",
       "    }\n",
       "\n",
       "    .dataframe thead th {\n",
       "        text-align: right;\n",
       "    }\n",
       "</style>\n",
       "<table border=\"1\" class=\"dataframe\">\n",
       "  <thead>\n",
       "    <tr style=\"text-align: right;\">\n",
       "      <th></th>\n",
       "      <th>date</th>\n",
       "      <th>2021-06-26</th>\n",
       "      <th>2021-03-27</th>\n",
       "      <th>2020-12-26</th>\n",
       "      <th>2020-09-26</th>\n",
       "      <th>2020-06-27</th>\n",
       "      <th>2020-03-28</th>\n",
       "      <th>2019-12-28</th>\n",
       "      <th>2019-09-28</th>\n",
       "      <th>2019-06-29</th>\n",
       "      <th>2019-03-30</th>\n",
       "    </tr>\n",
       "  </thead>\n",
       "  <tbody>\n",
       "    <tr>\n",
       "      <th>0</th>\n",
       "      <td>revenue</td>\n",
       "      <td>81,434,000,000.0</td>\n",
       "      <td>89,584,000,000.0</td>\n",
       "      <td>111,439,000,000.0</td>\n",
       "      <td>64,698,000,000.0</td>\n",
       "      <td>59,685,000,000.0</td>\n",
       "      <td>58,313,000,000.0</td>\n",
       "      <td>91,819,000,000.0</td>\n",
       "      <td>64,040,000,000.0</td>\n",
       "      <td>53,809,000,000.0</td>\n",
       "      <td>58,015,000,000.0</td>\n",
       "    </tr>\n",
       "    <tr>\n",
       "      <th>1</th>\n",
       "      <td>costOfRevenue</td>\n",
       "      <td>46,179,000,000.0</td>\n",
       "      <td>51,505,000,000.0</td>\n",
       "      <td>67,111,000,000.0</td>\n",
       "      <td>40,009,000,000.0</td>\n",
       "      <td>37,005,000,000.0</td>\n",
       "      <td>35,943,000,000.0</td>\n",
       "      <td>56,602,000,000.0</td>\n",
       "      <td>39,727,000,000.0</td>\n",
       "      <td>33,582,000,000.0</td>\n",
       "      <td>36,194,000,000.0</td>\n",
       "    </tr>\n",
       "    <tr>\n",
       "      <th>2</th>\n",
       "      <td>grossProfit</td>\n",
       "      <td>35,255,000,000.0</td>\n",
       "      <td>38,079,000,000.0</td>\n",
       "      <td>44,328,000,000.0</td>\n",
       "      <td>24,689,000,000.0</td>\n",
       "      <td>22,680,000,000.0</td>\n",
       "      <td>22,370,000,000.0</td>\n",
       "      <td>35,217,000,000.0</td>\n",
       "      <td>24,313,000,000.0</td>\n",
       "      <td>20,227,000,000.0</td>\n",
       "      <td>21,821,000,000.0</td>\n",
       "    </tr>\n",
       "    <tr>\n",
       "      <th>3</th>\n",
       "      <td>grossProfitRatio</td>\n",
       "      <td>0.4329272785323084</td>\n",
       "      <td>0.4250647437042329</td>\n",
       "      <td>0.39777815665969724</td>\n",
       "      <td>0.3816037590033695</td>\n",
       "      <td>0.3799949736114602</td>\n",
       "      <td>0.3836194330595236</td>\n",
       "      <td>0.38354806739345887</td>\n",
       "      <td>0.3796533416614616</td>\n",
       "      <td>0.37590365923916075</td>\n",
       "      <td>0.37612686374213566</td>\n",
       "    </tr>\n",
       "    <tr>\n",
       "      <th>4</th>\n",
       "      <td>researchAndDevelopmentExpenses</td>\n",
       "      <td>5,717,000,000.0</td>\n",
       "      <td>5,262,000,000.0</td>\n",
       "      <td>5,163,000,000.0</td>\n",
       "      <td>4,978,000,000.0</td>\n",
       "      <td>4,758,000,000.0</td>\n",
       "      <td>4,565,000,000.0</td>\n",
       "      <td>4,451,000,000.0</td>\n",
       "      <td>4,110,000,000.0</td>\n",
       "      <td>4,257,000,000.0</td>\n",
       "      <td>3,948,000,000.0</td>\n",
       "    </tr>\n",
       "    <tr>\n",
       "      <th>5</th>\n",
       "      <td>generalAndAdministrativeExpenses</td>\n",
       "      <td>0.0</td>\n",
       "      <td>0.0</td>\n",
       "      <td>0.0</td>\n",
       "      <td>4,936,000,000.0</td>\n",
       "      <td>4,831,000,000.0</td>\n",
       "      <td>4,952,000,000.0</td>\n",
       "      <td>5,197,000,000.0</td>\n",
       "      <td>4,578,000,000.0</td>\n",
       "      <td>4,426,000,000.0</td>\n",
       "      <td>4,458,000,000.0</td>\n",
       "    </tr>\n",
       "    <tr>\n",
       "      <th>6</th>\n",
       "      <td>sellingAndMarketingExpenses</td>\n",
       "      <td>0.0</td>\n",
       "      <td>0.0</td>\n",
       "      <td>0.0</td>\n",
       "      <td>0.0</td>\n",
       "      <td>0.0</td>\n",
       "      <td>0.0</td>\n",
       "      <td>0.0</td>\n",
       "      <td>0.0</td>\n",
       "      <td>0.0</td>\n",
       "      <td>0.0</td>\n",
       "    </tr>\n",
       "    <tr>\n",
       "      <th>7</th>\n",
       "      <td>sellingGeneralAndAdministrativeExpenses</td>\n",
       "      <td>5,412,000,000.0</td>\n",
       "      <td>5,314,000,000.0</td>\n",
       "      <td>5,631,000,000.0</td>\n",
       "      <td>4,936,000,000.0</td>\n",
       "      <td>4,831,000,000.0</td>\n",
       "      <td>4,952,000,000.0</td>\n",
       "      <td>5,197,000,000.0</td>\n",
       "      <td>4,578,000,000.0</td>\n",
       "      <td>4,426,000,000.0</td>\n",
       "      <td>4,458,000,000.0</td>\n",
       "    </tr>\n",
       "    <tr>\n",
       "      <th>8</th>\n",
       "      <td>otherExpenses</td>\n",
       "      <td>0.0</td>\n",
       "      <td>0.0</td>\n",
       "      <td>0.0</td>\n",
       "      <td>0.0</td>\n",
       "      <td>0.0</td>\n",
       "      <td>0.0</td>\n",
       "      <td>0.0</td>\n",
       "      <td>0.0</td>\n",
       "      <td>0.0</td>\n",
       "      <td>0.0</td>\n",
       "    </tr>\n",
       "    <tr>\n",
       "      <th>9</th>\n",
       "      <td>operatingExpenses</td>\n",
       "      <td>11,129,000,000.0</td>\n",
       "      <td>10,576,000,000.0</td>\n",
       "      <td>10,794,000,000.0</td>\n",
       "      <td>9,914,000,000.0</td>\n",
       "      <td>9,589,000,000.0</td>\n",
       "      <td>9,517,000,000.0</td>\n",
       "      <td>9,648,000,000.0</td>\n",
       "      <td>8,688,000,000.0</td>\n",
       "      <td>8,683,000,000.0</td>\n",
       "      <td>8,406,000,000.0</td>\n",
       "    </tr>\n",
       "    <tr>\n",
       "      <th>10</th>\n",
       "      <td>costAndExpenses</td>\n",
       "      <td>57,308,000,000.0</td>\n",
       "      <td>62,081,000,000.0</td>\n",
       "      <td>77,905,000,000.0</td>\n",
       "      <td>49,923,000,000.0</td>\n",
       "      <td>46,594,000,000.0</td>\n",
       "      <td>45,460,000,000.0</td>\n",
       "      <td>66,250,000,000.0</td>\n",
       "      <td>48,415,000,000.0</td>\n",
       "      <td>42,265,000,000.0</td>\n",
       "      <td>44,600,000,000.0</td>\n",
       "    </tr>\n",
       "    <tr>\n",
       "      <th>11</th>\n",
       "      <td>interestExpense</td>\n",
       "      <td>665,000,000.0</td>\n",
       "      <td>670,000,000.0</td>\n",
       "      <td>638,000,000.0</td>\n",
       "      <td>634,000,000.0</td>\n",
       "      <td>697,000,000.0</td>\n",
       "      <td>757,000,000.0</td>\n",
       "      <td>785,000,000.0</td>\n",
       "      <td>810,000,000.0</td>\n",
       "      <td>866,000,000.0</td>\n",
       "      <td>1,010,000,000.0</td>\n",
       "    </tr>\n",
       "    <tr>\n",
       "      <th>12</th>\n",
       "      <td>depreciationAndAmortization</td>\n",
       "      <td>2,832,000,000.0</td>\n",
       "      <td>2,797,000,000.0</td>\n",
       "      <td>2,666,000,000.0</td>\n",
       "      <td>2,702,000,000.0</td>\n",
       "      <td>2,752,000,000.0</td>\n",
       "      <td>2,786,000,000.0</td>\n",
       "      <td>2,816,000,000.0</td>\n",
       "      <td>3,179,000,000.0</td>\n",
       "      <td>2,933,000,000.0</td>\n",
       "      <td>3,040,000,000.0</td>\n",
       "    </tr>\n",
       "    <tr>\n",
       "      <th>13</th>\n",
       "      <td>ebitda</td>\n",
       "      <td>27,866,000,000.0</td>\n",
       "      <td>31,478,000,000.0</td>\n",
       "      <td>36,883,000,000.0</td>\n",
       "      <td>18,237,000,000.0</td>\n",
       "      <td>16,586,000,000.0</td>\n",
       "      <td>16,678,000,000.0</td>\n",
       "      <td>29,519,000,000.0</td>\n",
       "      <td>20,116,000,000.0</td>\n",
       "      <td>15,710,000,000.0</td>\n",
       "      <td>17,843,000,000.0</td>\n",
       "    </tr>\n",
       "    <tr>\n",
       "      <th>14</th>\n",
       "      <td>ebitdaratio</td>\n",
       "      <td>0.34219122233956334</td>\n",
       "      <td>0.3513797106626183</td>\n",
       "      <td>0.3309703066251492</td>\n",
       "      <td>0.2818788834276175</td>\n",
       "      <td>0.27789226773896286</td>\n",
       "      <td>0.2860082657383431</td>\n",
       "      <td>0.3214911946329191</td>\n",
       "      <td>0.3141161773891318</td>\n",
       "      <td>0.291958594287201</td>\n",
       "      <td>0.30755839007153324</td>\n",
       "    </tr>\n",
       "    <tr>\n",
       "      <th>15</th>\n",
       "      <td>operatingIncome</td>\n",
       "      <td>24,126,000,000.0</td>\n",
       "      <td>27,503,000,000.0</td>\n",
       "      <td>33,534,000,000.0</td>\n",
       "      <td>14,775,000,000.0</td>\n",
       "      <td>13,091,000,000.0</td>\n",
       "      <td>12,853,000,000.0</td>\n",
       "      <td>25,569,000,000.0</td>\n",
       "      <td>15,625,000,000.0</td>\n",
       "      <td>11,544,000,000.0</td>\n",
       "      <td>13,415,000,000.0</td>\n",
       "    </tr>\n",
       "    <tr>\n",
       "      <th>16</th>\n",
       "      <td>operatingIncomeRatio</td>\n",
       "      <td>0.2992484711545546</td>\n",
       "      <td>0.3126786033220218</td>\n",
       "      <td>0.30091799100853384</td>\n",
       "      <td>0.2283687285542057</td>\n",
       "      <td>0.21933484124989527</td>\n",
       "      <td>0.22041397287054346</td>\n",
       "      <td>0.2784717759940753</td>\n",
       "      <td>0.2439881324172392</td>\n",
       "      <td>0.2145366016837332</td>\n",
       "      <td>0.2312333017323106</td>\n",
       "    </tr>\n",
       "    <tr>\n",
       "      <th>17</th>\n",
       "      <td>totalOtherIncomeExpensesNet</td>\n",
       "      <td>-243,000,000.0</td>\n",
       "      <td>-508,000,000.0</td>\n",
       "      <td>-45,000,000.0</td>\n",
       "      <td>-126,000,000.0</td>\n",
       "      <td>-46,000,000.0</td>\n",
       "      <td>-282,000,000.0</td>\n",
       "      <td>-349,000,000.0</td>\n",
       "      <td>-502,000,000.0</td>\n",
       "      <td>-367,000,000.0</td>\n",
       "      <td>-378,000,000.0</td>\n",
       "    </tr>\n",
       "    <tr>\n",
       "      <th>18</th>\n",
       "      <td>incomeBeforeTax</td>\n",
       "      <td>24,369,000,000.0</td>\n",
       "      <td>28,011,000,000.0</td>\n",
       "      <td>33,579,000,000.0</td>\n",
       "      <td>14,901,000,000.0</td>\n",
       "      <td>13,137,000,000.0</td>\n",
       "      <td>13,135,000,000.0</td>\n",
       "      <td>25,918,000,000.0</td>\n",
       "      <td>16,127,000,000.0</td>\n",
       "      <td>11,911,000,000.0</td>\n",
       "      <td>13,793,000,000.0</td>\n",
       "    </tr>\n",
       "    <tr>\n",
       "      <th>19</th>\n",
       "      <td>incomeBeforeTaxRatio</td>\n",
       "      <td>0.2992484711545546</td>\n",
       "      <td>0.3126786033220218</td>\n",
       "      <td>0.30132179937005893</td>\n",
       "      <td>0.23031623852360197</td>\n",
       "      <td>0.22010555415933653</td>\n",
       "      <td>0.2252499442662871</td>\n",
       "      <td>0.2822727322231782</td>\n",
       "      <td>0.2518269831355403</td>\n",
       "      <td>0.22135702205950678</td>\n",
       "      <td>0.23774885805395157</td>\n",
       "    </tr>\n",
       "    <tr>\n",
       "      <th>20</th>\n",
       "      <td>incomeTaxExpense</td>\n",
       "      <td>2,625,000,000.0</td>\n",
       "      <td>4,381,000,000.0</td>\n",
       "      <td>4,824,000,000.0</td>\n",
       "      <td>2,228,000,000.0</td>\n",
       "      <td>1,884,000,000.0</td>\n",
       "      <td>1,886,000,000.0</td>\n",
       "      <td>3,682,000,000.0</td>\n",
       "      <td>2,441,000,000.0</td>\n",
       "      <td>1,867,000,000.0</td>\n",
       "      <td>2,232,000,000.0</td>\n",
       "    </tr>\n",
       "    <tr>\n",
       "      <th>21</th>\n",
       "      <td>netIncome</td>\n",
       "      <td>21,744,000,000.0</td>\n",
       "      <td>23,630,000,000.0</td>\n",
       "      <td>28,755,000,000.0</td>\n",
       "      <td>12,673,000,000.0</td>\n",
       "      <td>11,253,000,000.0</td>\n",
       "      <td>11,249,000,000.0</td>\n",
       "      <td>22,236,000,000.0</td>\n",
       "      <td>13,686,000,000.0</td>\n",
       "      <td>10,044,000,000.0</td>\n",
       "      <td>11,561,000,000.0</td>\n",
       "    </tr>\n",
       "    <tr>\n",
       "      <th>22</th>\n",
       "      <td>netIncomeRatio</td>\n",
       "      <td>0.2670137780288332</td>\n",
       "      <td>0.2637747812109305</td>\n",
       "      <td>0.25803354301456405</td>\n",
       "      <td>0.19587931620761073</td>\n",
       "      <td>0.18853983412917819</td>\n",
       "      <td>0.1929072419529093</td>\n",
       "      <td>0.2421720994565395</td>\n",
       "      <td>0.2137101811367895</td>\n",
       "      <td>0.18666022412607555</td>\n",
       "      <td>0.19927604929759546</td>\n",
       "    </tr>\n",
       "    <tr>\n",
       "      <th>23</th>\n",
       "      <td>eps</td>\n",
       "      <td>1.31</td>\n",
       "      <td>1.41</td>\n",
       "      <td>1.7</td>\n",
       "      <td>0.74</td>\n",
       "      <td>0.6525</td>\n",
       "      <td>0.645</td>\n",
       "      <td>1.26</td>\n",
       "      <td>0.7625</td>\n",
       "      <td>0.55</td>\n",
       "      <td>0.6175</td>\n",
       "    </tr>\n",
       "    <tr>\n",
       "      <th>24</th>\n",
       "      <td>epsdiluted</td>\n",
       "      <td>1.3</td>\n",
       "      <td>1.4</td>\n",
       "      <td>1.68</td>\n",
       "      <td>0.73</td>\n",
       "      <td>0.645</td>\n",
       "      <td>0.6375</td>\n",
       "      <td>1.2475</td>\n",
       "      <td>0.7575</td>\n",
       "      <td>0.545</td>\n",
       "      <td>0.615</td>\n",
       "    </tr>\n",
       "    <tr>\n",
       "      <th>25</th>\n",
       "      <td>weightedAverageShsOut</td>\n",
       "      <td>16,629,371,000.0</td>\n",
       "      <td>16,753,476,000.0</td>\n",
       "      <td>16,935,119,000.0</td>\n",
       "      <td>17,057,622,000.0</td>\n",
       "      <td>17,250,292,000.0</td>\n",
       "      <td>17,440,404,000.0</td>\n",
       "      <td>17,660,160,000.0</td>\n",
       "      <td>17,963,248,000.0</td>\n",
       "      <td>18,282,532,000.0</td>\n",
       "      <td>18,696,284,000.0</td>\n",
       "    </tr>\n",
       "    <tr>\n",
       "      <th>26</th>\n",
       "      <td>weightedAverageShsOutDil</td>\n",
       "      <td>16,781,735,000.0</td>\n",
       "      <td>16,929,157,000.0</td>\n",
       "      <td>17,113,688,000.0</td>\n",
       "      <td>17,256,521,000.0</td>\n",
       "      <td>17,419,152,000.0</td>\n",
       "      <td>17,618,764,000.0</td>\n",
       "      <td>17,818,416,000.0</td>\n",
       "      <td>18,081,492,000.0</td>\n",
       "      <td>18,405,520,000.0</td>\n",
       "      <td>18,802,584,000.0</td>\n",
       "    </tr>\n",
       "  </tbody>\n",
       "</table>\n",
       "</div>"
      ],
      "text/plain": [
       "0                                      date          2021-06-26  \\\n",
       "0                                   revenue    81,434,000,000.0   \n",
       "1                             costOfRevenue    46,179,000,000.0   \n",
       "2                               grossProfit    35,255,000,000.0   \n",
       "3                          grossProfitRatio  0.4329272785323084   \n",
       "4            researchAndDevelopmentExpenses     5,717,000,000.0   \n",
       "5          generalAndAdministrativeExpenses                 0.0   \n",
       "6               sellingAndMarketingExpenses                 0.0   \n",
       "7   sellingGeneralAndAdministrativeExpenses     5,412,000,000.0   \n",
       "8                             otherExpenses                 0.0   \n",
       "9                         operatingExpenses    11,129,000,000.0   \n",
       "10                          costAndExpenses    57,308,000,000.0   \n",
       "11                          interestExpense       665,000,000.0   \n",
       "12              depreciationAndAmortization     2,832,000,000.0   \n",
       "13                                   ebitda    27,866,000,000.0   \n",
       "14                              ebitdaratio 0.34219122233956334   \n",
       "15                          operatingIncome    24,126,000,000.0   \n",
       "16                     operatingIncomeRatio  0.2992484711545546   \n",
       "17              totalOtherIncomeExpensesNet      -243,000,000.0   \n",
       "18                          incomeBeforeTax    24,369,000,000.0   \n",
       "19                     incomeBeforeTaxRatio  0.2992484711545546   \n",
       "20                         incomeTaxExpense     2,625,000,000.0   \n",
       "21                                netIncome    21,744,000,000.0   \n",
       "22                           netIncomeRatio  0.2670137780288332   \n",
       "23                                      eps                1.31   \n",
       "24                               epsdiluted                 1.3   \n",
       "25                    weightedAverageShsOut    16,629,371,000.0   \n",
       "26                 weightedAverageShsOutDil    16,781,735,000.0   \n",
       "\n",
       "0          2021-03-27          2020-12-26          2020-09-26  \\\n",
       "0    89,584,000,000.0   111,439,000,000.0    64,698,000,000.0   \n",
       "1    51,505,000,000.0    67,111,000,000.0    40,009,000,000.0   \n",
       "2    38,079,000,000.0    44,328,000,000.0    24,689,000,000.0   \n",
       "3  0.4250647437042329 0.39777815665969724  0.3816037590033695   \n",
       "4     5,262,000,000.0     5,163,000,000.0     4,978,000,000.0   \n",
       "5                 0.0                 0.0     4,936,000,000.0   \n",
       "6                 0.0                 0.0                 0.0   \n",
       "7     5,314,000,000.0     5,631,000,000.0     4,936,000,000.0   \n",
       "8                 0.0                 0.0                 0.0   \n",
       "9    10,576,000,000.0    10,794,000,000.0     9,914,000,000.0   \n",
       "10   62,081,000,000.0    77,905,000,000.0    49,923,000,000.0   \n",
       "11      670,000,000.0       638,000,000.0       634,000,000.0   \n",
       "12    2,797,000,000.0     2,666,000,000.0     2,702,000,000.0   \n",
       "13   31,478,000,000.0    36,883,000,000.0    18,237,000,000.0   \n",
       "14 0.3513797106626183  0.3309703066251492  0.2818788834276175   \n",
       "15   27,503,000,000.0    33,534,000,000.0    14,775,000,000.0   \n",
       "16 0.3126786033220218 0.30091799100853384  0.2283687285542057   \n",
       "17     -508,000,000.0       -45,000,000.0      -126,000,000.0   \n",
       "18   28,011,000,000.0    33,579,000,000.0    14,901,000,000.0   \n",
       "19 0.3126786033220218 0.30132179937005893 0.23031623852360197   \n",
       "20    4,381,000,000.0     4,824,000,000.0     2,228,000,000.0   \n",
       "21   23,630,000,000.0    28,755,000,000.0    12,673,000,000.0   \n",
       "22 0.2637747812109305 0.25803354301456405 0.19587931620761073   \n",
       "23               1.41                 1.7                0.74   \n",
       "24                1.4                1.68                0.73   \n",
       "25   16,753,476,000.0    16,935,119,000.0    17,057,622,000.0   \n",
       "26   16,929,157,000.0    17,113,688,000.0    17,256,521,000.0   \n",
       "\n",
       "0           2020-06-27          2020-03-28          2019-12-28  \\\n",
       "0     59,685,000,000.0    58,313,000,000.0    91,819,000,000.0   \n",
       "1     37,005,000,000.0    35,943,000,000.0    56,602,000,000.0   \n",
       "2     22,680,000,000.0    22,370,000,000.0    35,217,000,000.0   \n",
       "3   0.3799949736114602  0.3836194330595236 0.38354806739345887   \n",
       "4      4,758,000,000.0     4,565,000,000.0     4,451,000,000.0   \n",
       "5      4,831,000,000.0     4,952,000,000.0     5,197,000,000.0   \n",
       "6                  0.0                 0.0                 0.0   \n",
       "7      4,831,000,000.0     4,952,000,000.0     5,197,000,000.0   \n",
       "8                  0.0                 0.0                 0.0   \n",
       "9      9,589,000,000.0     9,517,000,000.0     9,648,000,000.0   \n",
       "10    46,594,000,000.0    45,460,000,000.0    66,250,000,000.0   \n",
       "11       697,000,000.0       757,000,000.0       785,000,000.0   \n",
       "12     2,752,000,000.0     2,786,000,000.0     2,816,000,000.0   \n",
       "13    16,586,000,000.0    16,678,000,000.0    29,519,000,000.0   \n",
       "14 0.27789226773896286  0.2860082657383431  0.3214911946329191   \n",
       "15    13,091,000,000.0    12,853,000,000.0    25,569,000,000.0   \n",
       "16 0.21933484124989527 0.22041397287054346  0.2784717759940753   \n",
       "17       -46,000,000.0      -282,000,000.0      -349,000,000.0   \n",
       "18    13,137,000,000.0    13,135,000,000.0    25,918,000,000.0   \n",
       "19 0.22010555415933653  0.2252499442662871  0.2822727322231782   \n",
       "20     1,884,000,000.0     1,886,000,000.0     3,682,000,000.0   \n",
       "21    11,253,000,000.0    11,249,000,000.0    22,236,000,000.0   \n",
       "22 0.18853983412917819  0.1929072419529093  0.2421720994565395   \n",
       "23              0.6525               0.645                1.26   \n",
       "24               0.645              0.6375              1.2475   \n",
       "25    17,250,292,000.0    17,440,404,000.0    17,660,160,000.0   \n",
       "26    17,419,152,000.0    17,618,764,000.0    17,818,416,000.0   \n",
       "\n",
       "0          2019-09-28          2019-06-29          2019-03-30  \n",
       "0    64,040,000,000.0    53,809,000,000.0    58,015,000,000.0  \n",
       "1    39,727,000,000.0    33,582,000,000.0    36,194,000,000.0  \n",
       "2    24,313,000,000.0    20,227,000,000.0    21,821,000,000.0  \n",
       "3  0.3796533416614616 0.37590365923916075 0.37612686374213566  \n",
       "4     4,110,000,000.0     4,257,000,000.0     3,948,000,000.0  \n",
       "5     4,578,000,000.0     4,426,000,000.0     4,458,000,000.0  \n",
       "6                 0.0                 0.0                 0.0  \n",
       "7     4,578,000,000.0     4,426,000,000.0     4,458,000,000.0  \n",
       "8                 0.0                 0.0                 0.0  \n",
       "9     8,688,000,000.0     8,683,000,000.0     8,406,000,000.0  \n",
       "10   48,415,000,000.0    42,265,000,000.0    44,600,000,000.0  \n",
       "11      810,000,000.0       866,000,000.0     1,010,000,000.0  \n",
       "12    3,179,000,000.0     2,933,000,000.0     3,040,000,000.0  \n",
       "13   20,116,000,000.0    15,710,000,000.0    17,843,000,000.0  \n",
       "14 0.3141161773891318   0.291958594287201 0.30755839007153324  \n",
       "15   15,625,000,000.0    11,544,000,000.0    13,415,000,000.0  \n",
       "16 0.2439881324172392  0.2145366016837332  0.2312333017323106  \n",
       "17     -502,000,000.0      -367,000,000.0      -378,000,000.0  \n",
       "18   16,127,000,000.0    11,911,000,000.0    13,793,000,000.0  \n",
       "19 0.2518269831355403 0.22135702205950678 0.23774885805395157  \n",
       "20    2,441,000,000.0     1,867,000,000.0     2,232,000,000.0  \n",
       "21   13,686,000,000.0    10,044,000,000.0    11,561,000,000.0  \n",
       "22 0.2137101811367895 0.18666022412607555 0.19927604929759546  \n",
       "23             0.7625                0.55              0.6175  \n",
       "24             0.7575               0.545               0.615  \n",
       "25   17,963,248,000.0    18,282,532,000.0    18,696,284,000.0  \n",
       "26   18,081,492,000.0    18,405,520,000.0    18,802,584,000.0  "
      ]
     },
     "execution_count": 7,
     "metadata": {},
     "output_type": "execute_result"
    }
   ],
   "source": [
    "income_inicial"
   ]
  },
  {
   "cell_type": "code",
   "execution_count": 10,
   "id": "5e8fec17",
   "metadata": {},
   "outputs": [],
   "source": [
    "data = income_inicial.iloc[:,:2]\n",
    "revenue = data.iloc[0,1] / 1000000\n",
    "cogs = data.iloc[1,1] / 1000000 * -1\n",
    "grossprofit = data.iloc[2,1] / 1000000\n",
    "rd = data.iloc[4,1] / 1000000 * -1\n",
    "ga = data.iloc[7,1] / 1000000 * -1\n",
    "operexp = data.iloc[9,1] / 1000000 * -1\n",
    "interestexpense = data.iloc[11,1] / 1000000 * -1\n",
    "earningsbeforetax = data.iloc[18,1] / 1000000\n",
    "inctaxexp = data.iloc[20,1] / 1000000 * -1\n",
    "netincome = data.iloc[21,1] / 1000000"
   ]
  },
  {
   "cell_type": "code",
   "execution_count": 13,
   "id": "71036abf",
   "metadata": {},
   "outputs": [
    {
     "data": {
      "application/vnd.plotly.v1+json": {
       "config": {
        "plotlyServerURL": "https://plot.ly"
       },
       "data": [
        {
         "connector": {
          "line": {
           "color": "rgb(63, 63, 63)"
          }
         },
         "measure": [
          "relative",
          "relative",
          "total",
          "relative",
          "relative",
          "total",
          "relative",
          "total",
          "relative",
          "total"
         ],
         "name": "20",
         "orientation": "v",
         "text": [
          "81434.0",
          "-46179.0",
          "35255.0",
          "-5717.0",
          "-5412.0",
          "-11129.0",
          "-665.0",
          "24369.0",
          "-2625.0",
          "21744.0"
         ],
         "textposition": "outside",
         "type": "waterfall",
         "x": [
          "Revenue",
          "COGS",
          "Gross Profit",
          "R&D",
          "G&A",
          "Operational Expense",
          "Interest Expense",
          "Earnings Before Tax",
          "Income Tax",
          "Net Income"
         ],
         "y": [
          81434,
          -46179,
          35255,
          -5717,
          -5412,
          -11129,
          -665,
          24369,
          -2625,
          21744
         ]
        }
       ],
       "layout": {
        "showlegend": false,
        "template": {
         "data": {
          "bar": [
           {
            "error_x": {
             "color": "#2a3f5f"
            },
            "error_y": {
             "color": "#2a3f5f"
            },
            "marker": {
             "line": {
              "color": "#E5ECF6",
              "width": 0.5
             },
             "pattern": {
              "fillmode": "overlay",
              "size": 10,
              "solidity": 0.2
             }
            },
            "type": "bar"
           }
          ],
          "barpolar": [
           {
            "marker": {
             "line": {
              "color": "#E5ECF6",
              "width": 0.5
             },
             "pattern": {
              "fillmode": "overlay",
              "size": 10,
              "solidity": 0.2
             }
            },
            "type": "barpolar"
           }
          ],
          "carpet": [
           {
            "aaxis": {
             "endlinecolor": "#2a3f5f",
             "gridcolor": "white",
             "linecolor": "white",
             "minorgridcolor": "white",
             "startlinecolor": "#2a3f5f"
            },
            "baxis": {
             "endlinecolor": "#2a3f5f",
             "gridcolor": "white",
             "linecolor": "white",
             "minorgridcolor": "white",
             "startlinecolor": "#2a3f5f"
            },
            "type": "carpet"
           }
          ],
          "choropleth": [
           {
            "colorbar": {
             "outlinewidth": 0,
             "ticks": ""
            },
            "type": "choropleth"
           }
          ],
          "contour": [
           {
            "colorbar": {
             "outlinewidth": 0,
             "ticks": ""
            },
            "colorscale": [
             [
              0,
              "#0d0887"
             ],
             [
              0.1111111111111111,
              "#46039f"
             ],
             [
              0.2222222222222222,
              "#7201a8"
             ],
             [
              0.3333333333333333,
              "#9c179e"
             ],
             [
              0.4444444444444444,
              "#bd3786"
             ],
             [
              0.5555555555555556,
              "#d8576b"
             ],
             [
              0.6666666666666666,
              "#ed7953"
             ],
             [
              0.7777777777777778,
              "#fb9f3a"
             ],
             [
              0.8888888888888888,
              "#fdca26"
             ],
             [
              1,
              "#f0f921"
             ]
            ],
            "type": "contour"
           }
          ],
          "contourcarpet": [
           {
            "colorbar": {
             "outlinewidth": 0,
             "ticks": ""
            },
            "type": "contourcarpet"
           }
          ],
          "heatmap": [
           {
            "colorbar": {
             "outlinewidth": 0,
             "ticks": ""
            },
            "colorscale": [
             [
              0,
              "#0d0887"
             ],
             [
              0.1111111111111111,
              "#46039f"
             ],
             [
              0.2222222222222222,
              "#7201a8"
             ],
             [
              0.3333333333333333,
              "#9c179e"
             ],
             [
              0.4444444444444444,
              "#bd3786"
             ],
             [
              0.5555555555555556,
              "#d8576b"
             ],
             [
              0.6666666666666666,
              "#ed7953"
             ],
             [
              0.7777777777777778,
              "#fb9f3a"
             ],
             [
              0.8888888888888888,
              "#fdca26"
             ],
             [
              1,
              "#f0f921"
             ]
            ],
            "type": "heatmap"
           }
          ],
          "heatmapgl": [
           {
            "colorbar": {
             "outlinewidth": 0,
             "ticks": ""
            },
            "colorscale": [
             [
              0,
              "#0d0887"
             ],
             [
              0.1111111111111111,
              "#46039f"
             ],
             [
              0.2222222222222222,
              "#7201a8"
             ],
             [
              0.3333333333333333,
              "#9c179e"
             ],
             [
              0.4444444444444444,
              "#bd3786"
             ],
             [
              0.5555555555555556,
              "#d8576b"
             ],
             [
              0.6666666666666666,
              "#ed7953"
             ],
             [
              0.7777777777777778,
              "#fb9f3a"
             ],
             [
              0.8888888888888888,
              "#fdca26"
             ],
             [
              1,
              "#f0f921"
             ]
            ],
            "type": "heatmapgl"
           }
          ],
          "histogram": [
           {
            "marker": {
             "pattern": {
              "fillmode": "overlay",
              "size": 10,
              "solidity": 0.2
             }
            },
            "type": "histogram"
           }
          ],
          "histogram2d": [
           {
            "colorbar": {
             "outlinewidth": 0,
             "ticks": ""
            },
            "colorscale": [
             [
              0,
              "#0d0887"
             ],
             [
              0.1111111111111111,
              "#46039f"
             ],
             [
              0.2222222222222222,
              "#7201a8"
             ],
             [
              0.3333333333333333,
              "#9c179e"
             ],
             [
              0.4444444444444444,
              "#bd3786"
             ],
             [
              0.5555555555555556,
              "#d8576b"
             ],
             [
              0.6666666666666666,
              "#ed7953"
             ],
             [
              0.7777777777777778,
              "#fb9f3a"
             ],
             [
              0.8888888888888888,
              "#fdca26"
             ],
             [
              1,
              "#f0f921"
             ]
            ],
            "type": "histogram2d"
           }
          ],
          "histogram2dcontour": [
           {
            "colorbar": {
             "outlinewidth": 0,
             "ticks": ""
            },
            "colorscale": [
             [
              0,
              "#0d0887"
             ],
             [
              0.1111111111111111,
              "#46039f"
             ],
             [
              0.2222222222222222,
              "#7201a8"
             ],
             [
              0.3333333333333333,
              "#9c179e"
             ],
             [
              0.4444444444444444,
              "#bd3786"
             ],
             [
              0.5555555555555556,
              "#d8576b"
             ],
             [
              0.6666666666666666,
              "#ed7953"
             ],
             [
              0.7777777777777778,
              "#fb9f3a"
             ],
             [
              0.8888888888888888,
              "#fdca26"
             ],
             [
              1,
              "#f0f921"
             ]
            ],
            "type": "histogram2dcontour"
           }
          ],
          "mesh3d": [
           {
            "colorbar": {
             "outlinewidth": 0,
             "ticks": ""
            },
            "type": "mesh3d"
           }
          ],
          "parcoords": [
           {
            "line": {
             "colorbar": {
              "outlinewidth": 0,
              "ticks": ""
             }
            },
            "type": "parcoords"
           }
          ],
          "pie": [
           {
            "automargin": true,
            "type": "pie"
           }
          ],
          "scatter": [
           {
            "marker": {
             "colorbar": {
              "outlinewidth": 0,
              "ticks": ""
             }
            },
            "type": "scatter"
           }
          ],
          "scatter3d": [
           {
            "line": {
             "colorbar": {
              "outlinewidth": 0,
              "ticks": ""
             }
            },
            "marker": {
             "colorbar": {
              "outlinewidth": 0,
              "ticks": ""
             }
            },
            "type": "scatter3d"
           }
          ],
          "scattercarpet": [
           {
            "marker": {
             "colorbar": {
              "outlinewidth": 0,
              "ticks": ""
             }
            },
            "type": "scattercarpet"
           }
          ],
          "scattergeo": [
           {
            "marker": {
             "colorbar": {
              "outlinewidth": 0,
              "ticks": ""
             }
            },
            "type": "scattergeo"
           }
          ],
          "scattergl": [
           {
            "marker": {
             "colorbar": {
              "outlinewidth": 0,
              "ticks": ""
             }
            },
            "type": "scattergl"
           }
          ],
          "scattermapbox": [
           {
            "marker": {
             "colorbar": {
              "outlinewidth": 0,
              "ticks": ""
             }
            },
            "type": "scattermapbox"
           }
          ],
          "scatterpolar": [
           {
            "marker": {
             "colorbar": {
              "outlinewidth": 0,
              "ticks": ""
             }
            },
            "type": "scatterpolar"
           }
          ],
          "scatterpolargl": [
           {
            "marker": {
             "colorbar": {
              "outlinewidth": 0,
              "ticks": ""
             }
            },
            "type": "scatterpolargl"
           }
          ],
          "scatterternary": [
           {
            "marker": {
             "colorbar": {
              "outlinewidth": 0,
              "ticks": ""
             }
            },
            "type": "scatterternary"
           }
          ],
          "surface": [
           {
            "colorbar": {
             "outlinewidth": 0,
             "ticks": ""
            },
            "colorscale": [
             [
              0,
              "#0d0887"
             ],
             [
              0.1111111111111111,
              "#46039f"
             ],
             [
              0.2222222222222222,
              "#7201a8"
             ],
             [
              0.3333333333333333,
              "#9c179e"
             ],
             [
              0.4444444444444444,
              "#bd3786"
             ],
             [
              0.5555555555555556,
              "#d8576b"
             ],
             [
              0.6666666666666666,
              "#ed7953"
             ],
             [
              0.7777777777777778,
              "#fb9f3a"
             ],
             [
              0.8888888888888888,
              "#fdca26"
             ],
             [
              1,
              "#f0f921"
             ]
            ],
            "type": "surface"
           }
          ],
          "table": [
           {
            "cells": {
             "fill": {
              "color": "#EBF0F8"
             },
             "line": {
              "color": "white"
             }
            },
            "header": {
             "fill": {
              "color": "#C8D4E3"
             },
             "line": {
              "color": "white"
             }
            },
            "type": "table"
           }
          ]
         },
         "layout": {
          "annotationdefaults": {
           "arrowcolor": "#2a3f5f",
           "arrowhead": 0,
           "arrowwidth": 1
          },
          "autotypenumbers": "strict",
          "coloraxis": {
           "colorbar": {
            "outlinewidth": 0,
            "ticks": ""
           }
          },
          "colorscale": {
           "diverging": [
            [
             0,
             "#8e0152"
            ],
            [
             0.1,
             "#c51b7d"
            ],
            [
             0.2,
             "#de77ae"
            ],
            [
             0.3,
             "#f1b6da"
            ],
            [
             0.4,
             "#fde0ef"
            ],
            [
             0.5,
             "#f7f7f7"
            ],
            [
             0.6,
             "#e6f5d0"
            ],
            [
             0.7,
             "#b8e186"
            ],
            [
             0.8,
             "#7fbc41"
            ],
            [
             0.9,
             "#4d9221"
            ],
            [
             1,
             "#276419"
            ]
           ],
           "sequential": [
            [
             0,
             "#0d0887"
            ],
            [
             0.1111111111111111,
             "#46039f"
            ],
            [
             0.2222222222222222,
             "#7201a8"
            ],
            [
             0.3333333333333333,
             "#9c179e"
            ],
            [
             0.4444444444444444,
             "#bd3786"
            ],
            [
             0.5555555555555556,
             "#d8576b"
            ],
            [
             0.6666666666666666,
             "#ed7953"
            ],
            [
             0.7777777777777778,
             "#fb9f3a"
            ],
            [
             0.8888888888888888,
             "#fdca26"
            ],
            [
             1,
             "#f0f921"
            ]
           ],
           "sequentialminus": [
            [
             0,
             "#0d0887"
            ],
            [
             0.1111111111111111,
             "#46039f"
            ],
            [
             0.2222222222222222,
             "#7201a8"
            ],
            [
             0.3333333333333333,
             "#9c179e"
            ],
            [
             0.4444444444444444,
             "#bd3786"
            ],
            [
             0.5555555555555556,
             "#d8576b"
            ],
            [
             0.6666666666666666,
             "#ed7953"
            ],
            [
             0.7777777777777778,
             "#fb9f3a"
            ],
            [
             0.8888888888888888,
             "#fdca26"
            ],
            [
             1,
             "#f0f921"
            ]
           ]
          },
          "colorway": [
           "#636efa",
           "#EF553B",
           "#00cc96",
           "#ab63fa",
           "#FFA15A",
           "#19d3f3",
           "#FF6692",
           "#B6E880",
           "#FF97FF",
           "#FECB52"
          ],
          "font": {
           "color": "#2a3f5f"
          },
          "geo": {
           "bgcolor": "white",
           "lakecolor": "white",
           "landcolor": "#E5ECF6",
           "showlakes": true,
           "showland": true,
           "subunitcolor": "white"
          },
          "hoverlabel": {
           "align": "left"
          },
          "hovermode": "closest",
          "mapbox": {
           "style": "light"
          },
          "paper_bgcolor": "white",
          "plot_bgcolor": "#E5ECF6",
          "polar": {
           "angularaxis": {
            "gridcolor": "white",
            "linecolor": "white",
            "ticks": ""
           },
           "bgcolor": "#E5ECF6",
           "radialaxis": {
            "gridcolor": "white",
            "linecolor": "white",
            "ticks": ""
           }
          },
          "scene": {
           "xaxis": {
            "backgroundcolor": "#E5ECF6",
            "gridcolor": "white",
            "gridwidth": 2,
            "linecolor": "white",
            "showbackground": true,
            "ticks": "",
            "zerolinecolor": "white"
           },
           "yaxis": {
            "backgroundcolor": "#E5ECF6",
            "gridcolor": "white",
            "gridwidth": 2,
            "linecolor": "white",
            "showbackground": true,
            "ticks": "",
            "zerolinecolor": "white"
           },
           "zaxis": {
            "backgroundcolor": "#E5ECF6",
            "gridcolor": "white",
            "gridwidth": 2,
            "linecolor": "white",
            "showbackground": true,
            "ticks": "",
            "zerolinecolor": "white"
           }
          },
          "shapedefaults": {
           "line": {
            "color": "#2a3f5f"
           }
          },
          "ternary": {
           "aaxis": {
            "gridcolor": "white",
            "linecolor": "white",
            "ticks": ""
           },
           "baxis": {
            "gridcolor": "white",
            "linecolor": "white",
            "ticks": ""
           },
           "bgcolor": "#E5ECF6",
           "caxis": {
            "gridcolor": "white",
            "linecolor": "white",
            "ticks": ""
           }
          },
          "title": {
           "x": 0.05
          },
          "xaxis": {
           "automargin": true,
           "gridcolor": "white",
           "linecolor": "white",
           "ticks": "",
           "title": {
            "standoff": 15
           },
           "zerolinecolor": "white",
           "zerolinewidth": 2
          },
          "yaxis": {
           "automargin": true,
           "gridcolor": "white",
           "linecolor": "white",
           "ticks": "",
           "title": {
            "standoff": 15
           },
           "zerolinecolor": "white",
           "zerolinewidth": 2
          }
         }
        },
        "title": {
         "text": "Profit and loss last available statement"
        }
       }
      },
      "text/html": [
       "<div>                            <div id=\"102e4543-556a-4ecc-9285-dda1f5791592\" class=\"plotly-graph-div\" style=\"height:525px; width:100%;\"></div>            <script type=\"text/javascript\">                require([\"plotly\"], function(Plotly) {                    window.PLOTLYENV=window.PLOTLYENV || {};                                    if (document.getElementById(\"102e4543-556a-4ecc-9285-dda1f5791592\")) {                    Plotly.newPlot(                        \"102e4543-556a-4ecc-9285-dda1f5791592\",                        [{\"connector\":{\"line\":{\"color\":\"rgb(63, 63, 63)\"}},\"measure\":[\"relative\",\"relative\",\"total\",\"relative\",\"relative\",\"total\",\"relative\",\"total\",\"relative\",\"total\"],\"name\":\"20\",\"orientation\":\"v\",\"text\":[\"81434.0\",\"-46179.0\",\"35255.0\",\"-5717.0\",\"-5412.0\",\"-11129.0\",\"-665.0\",\"24369.0\",\"-2625.0\",\"21744.0\"],\"textposition\":\"outside\",\"type\":\"waterfall\",\"x\":[\"Revenue\",\"COGS\",\"Gross Profit\",\"R&D\",\"G&A\",\"Operational Expense\",\"Interest Expense\",\"Earnings Before Tax\",\"Income Tax\",\"Net Income\"],\"y\":[81434.0,-46179.0,35255.0,-5717.0,-5412.0,-11129.0,-665.0,24369.0,-2625.0,21744.0]}],                        {\"showlegend\":false,\"template\":{\"data\":{\"bar\":[{\"error_x\":{\"color\":\"#2a3f5f\"},\"error_y\":{\"color\":\"#2a3f5f\"},\"marker\":{\"line\":{\"color\":\"#E5ECF6\",\"width\":0.5},\"pattern\":{\"fillmode\":\"overlay\",\"size\":10,\"solidity\":0.2}},\"type\":\"bar\"}],\"barpolar\":[{\"marker\":{\"line\":{\"color\":\"#E5ECF6\",\"width\":0.5},\"pattern\":{\"fillmode\":\"overlay\",\"size\":10,\"solidity\":0.2}},\"type\":\"barpolar\"}],\"carpet\":[{\"aaxis\":{\"endlinecolor\":\"#2a3f5f\",\"gridcolor\":\"white\",\"linecolor\":\"white\",\"minorgridcolor\":\"white\",\"startlinecolor\":\"#2a3f5f\"},\"baxis\":{\"endlinecolor\":\"#2a3f5f\",\"gridcolor\":\"white\",\"linecolor\":\"white\",\"minorgridcolor\":\"white\",\"startlinecolor\":\"#2a3f5f\"},\"type\":\"carpet\"}],\"choropleth\":[{\"colorbar\":{\"outlinewidth\":0,\"ticks\":\"\"},\"type\":\"choropleth\"}],\"contour\":[{\"colorbar\":{\"outlinewidth\":0,\"ticks\":\"\"},\"colorscale\":[[0.0,\"#0d0887\"],[0.1111111111111111,\"#46039f\"],[0.2222222222222222,\"#7201a8\"],[0.3333333333333333,\"#9c179e\"],[0.4444444444444444,\"#bd3786\"],[0.5555555555555556,\"#d8576b\"],[0.6666666666666666,\"#ed7953\"],[0.7777777777777778,\"#fb9f3a\"],[0.8888888888888888,\"#fdca26\"],[1.0,\"#f0f921\"]],\"type\":\"contour\"}],\"contourcarpet\":[{\"colorbar\":{\"outlinewidth\":0,\"ticks\":\"\"},\"type\":\"contourcarpet\"}],\"heatmap\":[{\"colorbar\":{\"outlinewidth\":0,\"ticks\":\"\"},\"colorscale\":[[0.0,\"#0d0887\"],[0.1111111111111111,\"#46039f\"],[0.2222222222222222,\"#7201a8\"],[0.3333333333333333,\"#9c179e\"],[0.4444444444444444,\"#bd3786\"],[0.5555555555555556,\"#d8576b\"],[0.6666666666666666,\"#ed7953\"],[0.7777777777777778,\"#fb9f3a\"],[0.8888888888888888,\"#fdca26\"],[1.0,\"#f0f921\"]],\"type\":\"heatmap\"}],\"heatmapgl\":[{\"colorbar\":{\"outlinewidth\":0,\"ticks\":\"\"},\"colorscale\":[[0.0,\"#0d0887\"],[0.1111111111111111,\"#46039f\"],[0.2222222222222222,\"#7201a8\"],[0.3333333333333333,\"#9c179e\"],[0.4444444444444444,\"#bd3786\"],[0.5555555555555556,\"#d8576b\"],[0.6666666666666666,\"#ed7953\"],[0.7777777777777778,\"#fb9f3a\"],[0.8888888888888888,\"#fdca26\"],[1.0,\"#f0f921\"]],\"type\":\"heatmapgl\"}],\"histogram\":[{\"marker\":{\"pattern\":{\"fillmode\":\"overlay\",\"size\":10,\"solidity\":0.2}},\"type\":\"histogram\"}],\"histogram2d\":[{\"colorbar\":{\"outlinewidth\":0,\"ticks\":\"\"},\"colorscale\":[[0.0,\"#0d0887\"],[0.1111111111111111,\"#46039f\"],[0.2222222222222222,\"#7201a8\"],[0.3333333333333333,\"#9c179e\"],[0.4444444444444444,\"#bd3786\"],[0.5555555555555556,\"#d8576b\"],[0.6666666666666666,\"#ed7953\"],[0.7777777777777778,\"#fb9f3a\"],[0.8888888888888888,\"#fdca26\"],[1.0,\"#f0f921\"]],\"type\":\"histogram2d\"}],\"histogram2dcontour\":[{\"colorbar\":{\"outlinewidth\":0,\"ticks\":\"\"},\"colorscale\":[[0.0,\"#0d0887\"],[0.1111111111111111,\"#46039f\"],[0.2222222222222222,\"#7201a8\"],[0.3333333333333333,\"#9c179e\"],[0.4444444444444444,\"#bd3786\"],[0.5555555555555556,\"#d8576b\"],[0.6666666666666666,\"#ed7953\"],[0.7777777777777778,\"#fb9f3a\"],[0.8888888888888888,\"#fdca26\"],[1.0,\"#f0f921\"]],\"type\":\"histogram2dcontour\"}],\"mesh3d\":[{\"colorbar\":{\"outlinewidth\":0,\"ticks\":\"\"},\"type\":\"mesh3d\"}],\"parcoords\":[{\"line\":{\"colorbar\":{\"outlinewidth\":0,\"ticks\":\"\"}},\"type\":\"parcoords\"}],\"pie\":[{\"automargin\":true,\"type\":\"pie\"}],\"scatter\":[{\"marker\":{\"colorbar\":{\"outlinewidth\":0,\"ticks\":\"\"}},\"type\":\"scatter\"}],\"scatter3d\":[{\"line\":{\"colorbar\":{\"outlinewidth\":0,\"ticks\":\"\"}},\"marker\":{\"colorbar\":{\"outlinewidth\":0,\"ticks\":\"\"}},\"type\":\"scatter3d\"}],\"scattercarpet\":[{\"marker\":{\"colorbar\":{\"outlinewidth\":0,\"ticks\":\"\"}},\"type\":\"scattercarpet\"}],\"scattergeo\":[{\"marker\":{\"colorbar\":{\"outlinewidth\":0,\"ticks\":\"\"}},\"type\":\"scattergeo\"}],\"scattergl\":[{\"marker\":{\"colorbar\":{\"outlinewidth\":0,\"ticks\":\"\"}},\"type\":\"scattergl\"}],\"scattermapbox\":[{\"marker\":{\"colorbar\":{\"outlinewidth\":0,\"ticks\":\"\"}},\"type\":\"scattermapbox\"}],\"scatterpolar\":[{\"marker\":{\"colorbar\":{\"outlinewidth\":0,\"ticks\":\"\"}},\"type\":\"scatterpolar\"}],\"scatterpolargl\":[{\"marker\":{\"colorbar\":{\"outlinewidth\":0,\"ticks\":\"\"}},\"type\":\"scatterpolargl\"}],\"scatterternary\":[{\"marker\":{\"colorbar\":{\"outlinewidth\":0,\"ticks\":\"\"}},\"type\":\"scatterternary\"}],\"surface\":[{\"colorbar\":{\"outlinewidth\":0,\"ticks\":\"\"},\"colorscale\":[[0.0,\"#0d0887\"],[0.1111111111111111,\"#46039f\"],[0.2222222222222222,\"#7201a8\"],[0.3333333333333333,\"#9c179e\"],[0.4444444444444444,\"#bd3786\"],[0.5555555555555556,\"#d8576b\"],[0.6666666666666666,\"#ed7953\"],[0.7777777777777778,\"#fb9f3a\"],[0.8888888888888888,\"#fdca26\"],[1.0,\"#f0f921\"]],\"type\":\"surface\"}],\"table\":[{\"cells\":{\"fill\":{\"color\":\"#EBF0F8\"},\"line\":{\"color\":\"white\"}},\"header\":{\"fill\":{\"color\":\"#C8D4E3\"},\"line\":{\"color\":\"white\"}},\"type\":\"table\"}]},\"layout\":{\"annotationdefaults\":{\"arrowcolor\":\"#2a3f5f\",\"arrowhead\":0,\"arrowwidth\":1},\"autotypenumbers\":\"strict\",\"coloraxis\":{\"colorbar\":{\"outlinewidth\":0,\"ticks\":\"\"}},\"colorscale\":{\"diverging\":[[0,\"#8e0152\"],[0.1,\"#c51b7d\"],[0.2,\"#de77ae\"],[0.3,\"#f1b6da\"],[0.4,\"#fde0ef\"],[0.5,\"#f7f7f7\"],[0.6,\"#e6f5d0\"],[0.7,\"#b8e186\"],[0.8,\"#7fbc41\"],[0.9,\"#4d9221\"],[1,\"#276419\"]],\"sequential\":[[0.0,\"#0d0887\"],[0.1111111111111111,\"#46039f\"],[0.2222222222222222,\"#7201a8\"],[0.3333333333333333,\"#9c179e\"],[0.4444444444444444,\"#bd3786\"],[0.5555555555555556,\"#d8576b\"],[0.6666666666666666,\"#ed7953\"],[0.7777777777777778,\"#fb9f3a\"],[0.8888888888888888,\"#fdca26\"],[1.0,\"#f0f921\"]],\"sequentialminus\":[[0.0,\"#0d0887\"],[0.1111111111111111,\"#46039f\"],[0.2222222222222222,\"#7201a8\"],[0.3333333333333333,\"#9c179e\"],[0.4444444444444444,\"#bd3786\"],[0.5555555555555556,\"#d8576b\"],[0.6666666666666666,\"#ed7953\"],[0.7777777777777778,\"#fb9f3a\"],[0.8888888888888888,\"#fdca26\"],[1.0,\"#f0f921\"]]},\"colorway\":[\"#636efa\",\"#EF553B\",\"#00cc96\",\"#ab63fa\",\"#FFA15A\",\"#19d3f3\",\"#FF6692\",\"#B6E880\",\"#FF97FF\",\"#FECB52\"],\"font\":{\"color\":\"#2a3f5f\"},\"geo\":{\"bgcolor\":\"white\",\"lakecolor\":\"white\",\"landcolor\":\"#E5ECF6\",\"showlakes\":true,\"showland\":true,\"subunitcolor\":\"white\"},\"hoverlabel\":{\"align\":\"left\"},\"hovermode\":\"closest\",\"mapbox\":{\"style\":\"light\"},\"paper_bgcolor\":\"white\",\"plot_bgcolor\":\"#E5ECF6\",\"polar\":{\"angularaxis\":{\"gridcolor\":\"white\",\"linecolor\":\"white\",\"ticks\":\"\"},\"bgcolor\":\"#E5ECF6\",\"radialaxis\":{\"gridcolor\":\"white\",\"linecolor\":\"white\",\"ticks\":\"\"}},\"scene\":{\"xaxis\":{\"backgroundcolor\":\"#E5ECF6\",\"gridcolor\":\"white\",\"gridwidth\":2,\"linecolor\":\"white\",\"showbackground\":true,\"ticks\":\"\",\"zerolinecolor\":\"white\"},\"yaxis\":{\"backgroundcolor\":\"#E5ECF6\",\"gridcolor\":\"white\",\"gridwidth\":2,\"linecolor\":\"white\",\"showbackground\":true,\"ticks\":\"\",\"zerolinecolor\":\"white\"},\"zaxis\":{\"backgroundcolor\":\"#E5ECF6\",\"gridcolor\":\"white\",\"gridwidth\":2,\"linecolor\":\"white\",\"showbackground\":true,\"ticks\":\"\",\"zerolinecolor\":\"white\"}},\"shapedefaults\":{\"line\":{\"color\":\"#2a3f5f\"}},\"ternary\":{\"aaxis\":{\"gridcolor\":\"white\",\"linecolor\":\"white\",\"ticks\":\"\"},\"baxis\":{\"gridcolor\":\"white\",\"linecolor\":\"white\",\"ticks\":\"\"},\"bgcolor\":\"#E5ECF6\",\"caxis\":{\"gridcolor\":\"white\",\"linecolor\":\"white\",\"ticks\":\"\"}},\"title\":{\"x\":0.05},\"xaxis\":{\"automargin\":true,\"gridcolor\":\"white\",\"linecolor\":\"white\",\"ticks\":\"\",\"title\":{\"standoff\":15},\"zerolinecolor\":\"white\",\"zerolinewidth\":2},\"yaxis\":{\"automargin\":true,\"gridcolor\":\"white\",\"linecolor\":\"white\",\"ticks\":\"\",\"title\":{\"standoff\":15},\"zerolinecolor\":\"white\",\"zerolinewidth\":2}}},\"title\":{\"text\":\"Profit and loss last available statement\"}},                        {\"responsive\": true}                    ).then(function(){\n",
       "                            \n",
       "var gd = document.getElementById('102e4543-556a-4ecc-9285-dda1f5791592');\n",
       "var x = new MutationObserver(function (mutations, observer) {{\n",
       "        var display = window.getComputedStyle(gd).display;\n",
       "        if (!display || display === 'none') {{\n",
       "            console.log([gd, 'removed!']);\n",
       "            Plotly.purge(gd);\n",
       "            observer.disconnect();\n",
       "        }}\n",
       "}});\n",
       "\n",
       "// Listen for the removal of the full notebook cells\n",
       "var notebookContainer = gd.closest('#notebook-container');\n",
       "if (notebookContainer) {{\n",
       "    x.observe(notebookContainer, {childList: true});\n",
       "}}\n",
       "\n",
       "// Listen for the clearing of the current output cell\n",
       "var outputEl = gd.closest('.output');\n",
       "if (outputEl) {{\n",
       "    x.observe(outputEl, {childList: true});\n",
       "}}\n",
       "\n",
       "                        })                };                });            </script>        </div>"
      ]
     },
     "metadata": {},
     "output_type": "display_data"
    }
   ],
   "source": [
    "fig = go.Figure(go.Waterfall(\n",
    "    name = \"20\", orientation = \"v\",\n",
    "    measure = [\"relative\", \"relative\", \"total\", \"relative\", \"relative\", \"total\",\n",
    "              \"relative\", \"total\", \"relative\", \"total\"],\n",
    "    x = [\"Revenue\", \"COGS\", \"Gross Profit\", \"R&D\", \"G&A\", \"Operational Expense\",\n",
    "        \"Interest Expense\", \"Earnings Before Tax\", \"Income Tax\", \"Net Income\"],\n",
    "    textposition = \"outside\",\n",
    "    text = [revenue, cogs, grossprofit, rd, ga, operexp, \n",
    "            interestexpense, earningsbeforetax, inctaxexp, netincome],\n",
    "    y = [revenue, cogs, grossprofit, rd, ga, operexp, interestexpense,\n",
    "         earningsbeforetax, inctaxexp, netincome],\n",
    "    connector = {\"line\":{\"color\":\"rgb(63, 63, 63)\"}},\n",
    "))\n",
    "\n",
    "fig.update_layout(\n",
    "        title = \"Profit and loss last available statement\",\n",
    "        showlegend = False\n",
    ")\n",
    "\n",
    "fig.show()"
   ]
  },
  {
   "cell_type": "markdown",
   "id": "08d8ce44",
   "metadata": {},
   "source": []
  }
 ],
 "metadata": {
  "kernelspec": {
   "display_name": "pyfinance",
   "language": "python",
   "name": "pyfinance-enve"
  },
  "language_info": {
   "codemirror_mode": {
    "name": "ipython",
    "version": 3
   },
   "file_extension": ".py",
   "mimetype": "text/x-python",
   "name": "python",
   "nbconvert_exporter": "python",
   "pygments_lexer": "ipython3",
   "version": "3.8.11"
  }
 },
 "nbformat": 4,
 "nbformat_minor": 5
}
